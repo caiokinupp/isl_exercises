{
 "cells": [
  {
   "cell_type": "code",
   "execution_count": 1,
   "id": "9fda7770",
   "metadata": {},
   "outputs": [],
   "source": [
    "import pandas as pd\n",
    "import numpy as np\n",
    "import matplotlib.pyplot as plt"
   ]
  },
  {
   "cell_type": "markdown",
   "id": "97bddbe5",
   "metadata": {},
   "source": [
    "# Conceptual"
   ]
  },
  {
   "cell_type": "markdown",
   "id": "da3c58c9",
   "metadata": {},
   "source": [
    "1. For each of parts (a) through (d), indicate whether we would generally expect the performance of a flexible statistical learning method to be better or worse than an inflexible method. Justify your answer.\n",
    "\n",
    "- **(a)** the sample size n is extremely large, and the number of predic- tors p is small.\n",
    "- **(b)** The number of predictors p is extremely large, and the number of observations n is small.\n",
    "- **(c)** The relationship between the predictors and response is highly non-linear.\n",
    "- **(d)** The variance of the error terms, i.e. σ2 = Var(ε), is extremely high."
   ]
  },
  {
   "cell_type": "markdown",
   "id": "84ea9bf7",
   "metadata": {},
   "source": [
    "2. Explain whether each scenario is a classification or regression prob- lem, and indicate whether we are most interested in inference or pre- diction. Finally, provide n and p.\n",
    "\n",
    "- **(a)** We collect a set of data on the top 500 firms in the US. For each firm we record profit, number of employees, industry and the CEO salary. We are interested in understanding which factors affect CEO salary.\n",
    "- **(b)** We are considering launching a new product and wish to know whether it will be a success or a failure. We collect data on 20 similar products that were previously launched. For each prod- uct we have recorded whether it was a success or failure, price charged for the product, marketing budget, competition price, and ten other variables.\n",
    "- **(c)** We are interested in predicting the % change in the USD/Euro exchange rate in relation to the weekly changes in the world stock markets. Hence we collect weekly data for all of 2012. For each week we record the % change in the USD/Euro, the % change in the US market, the % change in the British market, and the % change in the German market."
   ]
  },
  {
   "cell_type": "markdown",
   "id": "ed975e67",
   "metadata": {},
   "source": [
    "3. We now revisit the bias-variance decomposition.\n",
    "\n",
    "- **(a)** Provide a sketch of typical (squared) bias, variance, training er- ror, test error, and Bayes (or irreducible) error curves, on a sin- gle plot, as we go from less flexible statistical learning methods towards more flexible approaches. The x-axis should represent the amount of flexibility in the method, and the y-axis should represent the values for each curve. There should be five curves. Make sure to label each one.\n",
    "- **(b)** Explain why each of the five curves has the shape displayed in part (a)."
   ]
  },
  {
   "cell_type": "markdown",
   "id": "0197eab1",
   "metadata": {},
   "source": [
    "4. You will now think of some real-life applications for statistical learn- ing.\n",
    "\n",
    "- **(a)** Describe three real-life applications in which classification might be useful. Describe the response, as well as the predictors. Is the goal of each application inference or prediction? Explain your answer.\n",
    "- **(b)** Describe three real-life applications in which regression might be useful. Describe the response, as well as the predictors. Is the goal of each application inference or prediction? Explain your answer.\n",
    "- **(c)** Describe three real-life applications in which cluster analysis might be useful.\n"
   ]
  },
  {
   "cell_type": "markdown",
   "id": "7c80b7f7",
   "metadata": {},
   "source": [
    "5. What are the advantages and disadvantages of a very flexible (versus a less flexible) approach for regression or classification? Under what circumstances might a more flexible approach be preferred to a less flexible approach? When might a less flexible approach be preferred?"
   ]
  },
  {
   "cell_type": "markdown",
   "id": "a83f19c3",
   "metadata": {},
   "source": [
    "6. Describe the differences between a parametric and a non-parametric statistical learning approach. What are the advantages of a para- metric approach to regression or classification (as opposed to a non- parametric approach)? What are its disadvantages?"
   ]
  },
  {
   "cell_type": "markdown",
   "id": "17148770",
   "metadata": {},
   "source": [
    "7. The table below provides a training data set containing six observa- tions, three predictors, and one qualitative response variable.\n",
    "\n",
    "<img src=\"img/chap2_7.png\" alt=\"table\" style=\"width:400px;\"/>\n",
    "\n",
    "Suppose we wish to use this data set to make a prediction for $Y$ when $X_{1} = X_{2} = X_{3} = 0$ using K-nearest neighbors.\n",
    "\n",
    "- **(a)** Compute the Euclidean distance between each observation and thetestpoint,X1 =X2 =X3 =0.\n",
    "- **(b)** What is our prediction with K = 1? Why?\n",
    "- **(c)** What is our prediction with K = 3? Why?\n",
    "- **(d)** If the Bayes decision boundary in this problem is highly non- linear, then would we expect the best value for K to be large or small? Why?"
   ]
  },
  {
   "cell_type": "markdown",
   "id": "6f12d591",
   "metadata": {},
   "source": [
    "# Applied"
   ]
  },
  {
   "cell_type": "markdown",
   "id": "3a5bd727",
   "metadata": {},
   "source": []
  },
  {
   "cell_type": "markdown",
   "id": "0432ef48",
   "metadata": {},
   "source": []
  },
  {
   "cell_type": "markdown",
   "id": "9ae5192c",
   "metadata": {},
   "source": []
  }
 ],
 "metadata": {
  "kernelspec": {
   "display_name": "Python 3 (ipykernel)",
   "language": "python",
   "name": "python3"
  },
  "language_info": {
   "codemirror_mode": {
    "name": "ipython",
    "version": 3
   },
   "file_extension": ".py",
   "mimetype": "text/x-python",
   "name": "python",
   "nbconvert_exporter": "python",
   "pygments_lexer": "ipython3",
   "version": "3.10.11"
  }
 },
 "nbformat": 4,
 "nbformat_minor": 5
}
